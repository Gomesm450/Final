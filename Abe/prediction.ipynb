{
 "cells": [
  {
   "cell_type": "code",
   "execution_count": 4,
   "metadata": {},
   "outputs": [],
   "source": [
    "#Import the Library\n",
    "from selenium import webdriver\n",
    "from bs4 import BeautifulSoup\n",
    "import time\n",
    "import pandas as pd\n",
    "import numpy as np"
   ]
  },
  {
   "cell_type": "markdown",
   "metadata": {},
   "source": [
    "### Read CSV data"
   ]
  },
  {
   "cell_type": "code",
   "execution_count": 8,
   "metadata": {},
   "outputs": [
    {
     "data": {
      "text/html": [
       "<div>\n",
       "<style scoped>\n",
       "    .dataframe tbody tr th:only-of-type {\n",
       "        vertical-align: middle;\n",
       "    }\n",
       "\n",
       "    .dataframe tbody tr th {\n",
       "        vertical-align: top;\n",
       "    }\n",
       "\n",
       "    .dataframe thead th {\n",
       "        text-align: right;\n",
       "    }\n",
       "</style>\n",
       "<table border=\"1\" class=\"dataframe\">\n",
       "  <thead>\n",
       "    <tr style=\"text-align: right;\">\n",
       "      <th></th>\n",
       "      <th>id</th>\n",
       "      <th>first</th>\n",
       "      <th>second</th>\n",
       "      <th>third</th>\n",
       "      <th>fourth</th>\n",
       "      <th>fifth</th>\n",
       "      <th>Yellow</th>\n",
       "      <th>result</th>\n",
       "    </tr>\n",
       "  </thead>\n",
       "  <tbody>\n",
       "    <tr>\n",
       "      <th>0</th>\n",
       "      <td>1</td>\n",
       "      <td>1</td>\n",
       "      <td>4</td>\n",
       "      <td>6</td>\n",
       "      <td>11</td>\n",
       "      <td>14</td>\n",
       "      <td>30</td>\n",
       "      <td>1</td>\n",
       "    </tr>\n",
       "    <tr>\n",
       "      <th>1</th>\n",
       "      <td>2</td>\n",
       "      <td>1</td>\n",
       "      <td>10</td>\n",
       "      <td>13</td>\n",
       "      <td>19</td>\n",
       "      <td>21</td>\n",
       "      <td>28</td>\n",
       "      <td>1</td>\n",
       "    </tr>\n",
       "    <tr>\n",
       "      <th>2</th>\n",
       "      <td>3</td>\n",
       "      <td>1</td>\n",
       "      <td>10</td>\n",
       "      <td>13</td>\n",
       "      <td>19</td>\n",
       "      <td>21</td>\n",
       "      <td>28</td>\n",
       "      <td>1</td>\n",
       "    </tr>\n",
       "    <tr>\n",
       "      <th>3</th>\n",
       "      <td>4</td>\n",
       "      <td>1</td>\n",
       "      <td>16</td>\n",
       "      <td>18</td>\n",
       "      <td>25</td>\n",
       "      <td>27</td>\n",
       "      <td>3</td>\n",
       "      <td>1</td>\n",
       "    </tr>\n",
       "    <tr>\n",
       "      <th>4</th>\n",
       "      <td>5</td>\n",
       "      <td>1</td>\n",
       "      <td>2</td>\n",
       "      <td>13</td>\n",
       "      <td>19</td>\n",
       "      <td>27</td>\n",
       "      <td>21</td>\n",
       "      <td>1</td>\n",
       "    </tr>\n",
       "  </tbody>\n",
       "</table>\n",
       "</div>"
      ],
      "text/plain": [
       "   id  first  second  third  fourth  fifth  Yellow  result\n",
       "0   1      1       4      6      11     14      30       1\n",
       "1   2      1      10     13      19     21      28       1\n",
       "2   3      1      10     13      19     21      28       1\n",
       "3   4      1      16     18      25     27       3       1\n",
       "4   5      1       2     13      19     27      21       1"
      ]
     },
     "execution_count": 8,
     "metadata": {},
     "output_type": "execute_result"
    }
   ],
   "source": [
    "df = pd.read_csv('Lottery_data.csv')\n",
    "df['result']=1\n",
    "df.head()"
   ]
  },
  {
   "cell_type": "markdown",
   "metadata": {},
   "source": [
    "## Create Random FALSE numbers"
   ]
  },
  {
   "cell_type": "code",
   "execution_count": 9,
   "metadata": {},
   "outputs": [],
   "source": [
    "import random\n",
    "first= []\n",
    "second=[]\n",
    "third=[]\n",
    "fourth=[]\n",
    "fifth=[]\n",
    "sixth=[]\n",
    "result=[]\n",
    "\n",
    "for x in range(1000):\n",
    "    first.append(random.randint(1,70))\n",
    "    second.append(random.randint(1,70))\n",
    "    third.append(random.randint(1,70))\n",
    "    fourth.append(random.randint(1,70))\n",
    "    fifth.append(random.randint(1,70))\n",
    "    sixth.append(random.randint(1,25))\n",
    "    result.append(0)"
   ]
  },
  {
   "cell_type": "markdown",
   "metadata": {},
   "source": [
    "## Create dataframe for the losing numbers"
   ]
  },
  {
   "cell_type": "code",
   "execution_count": 10,
   "metadata": {},
   "outputs": [],
   "source": [
    "df_loser= pd.DataFrame({'first':first,\n",
    "                       'second':second,\n",
    "                       'third':third,\n",
    "                        'fourth':fourth,\n",
    "                        'fifth':fifth,\n",
    "                        'Yellow':sixth,\n",
    "                        'result':result\n",
    "                       }) "
   ]
  },
  {
   "cell_type": "markdown",
   "metadata": {},
   "source": [
    "### Concatinate the winning numbers with loosing ones\n"
   ]
  },
  {
   "cell_type": "code",
   "execution_count": 11,
   "metadata": {},
   "outputs": [],
   "source": [
    "frames=[df,df_loser]\n",
    "result = pd.concat(frames)"
   ]
  },
  {
   "cell_type": "code",
   "execution_count": 12,
   "metadata": {},
   "outputs": [
    {
     "data": {
      "text/html": [
       "<div>\n",
       "<style scoped>\n",
       "    .dataframe tbody tr th:only-of-type {\n",
       "        vertical-align: middle;\n",
       "    }\n",
       "\n",
       "    .dataframe tbody tr th {\n",
       "        vertical-align: top;\n",
       "    }\n",
       "\n",
       "    .dataframe thead th {\n",
       "        text-align: right;\n",
       "    }\n",
       "</style>\n",
       "<table border=\"1\" class=\"dataframe\">\n",
       "  <thead>\n",
       "    <tr style=\"text-align: right;\">\n",
       "      <th></th>\n",
       "      <th>Yellow</th>\n",
       "      <th>fifth</th>\n",
       "      <th>first</th>\n",
       "      <th>fourth</th>\n",
       "      <th>id</th>\n",
       "      <th>result</th>\n",
       "      <th>second</th>\n",
       "      <th>third</th>\n",
       "    </tr>\n",
       "  </thead>\n",
       "  <tbody>\n",
       "    <tr>\n",
       "      <th>0</th>\n",
       "      <td>30</td>\n",
       "      <td>14</td>\n",
       "      <td>1</td>\n",
       "      <td>11</td>\n",
       "      <td>1.0</td>\n",
       "      <td>1</td>\n",
       "      <td>4</td>\n",
       "      <td>6</td>\n",
       "    </tr>\n",
       "    <tr>\n",
       "      <th>1</th>\n",
       "      <td>28</td>\n",
       "      <td>21</td>\n",
       "      <td>1</td>\n",
       "      <td>19</td>\n",
       "      <td>2.0</td>\n",
       "      <td>1</td>\n",
       "      <td>10</td>\n",
       "      <td>13</td>\n",
       "    </tr>\n",
       "    <tr>\n",
       "      <th>2</th>\n",
       "      <td>28</td>\n",
       "      <td>21</td>\n",
       "      <td>1</td>\n",
       "      <td>19</td>\n",
       "      <td>3.0</td>\n",
       "      <td>1</td>\n",
       "      <td>10</td>\n",
       "      <td>13</td>\n",
       "    </tr>\n",
       "    <tr>\n",
       "      <th>3</th>\n",
       "      <td>3</td>\n",
       "      <td>27</td>\n",
       "      <td>1</td>\n",
       "      <td>25</td>\n",
       "      <td>4.0</td>\n",
       "      <td>1</td>\n",
       "      <td>16</td>\n",
       "      <td>18</td>\n",
       "    </tr>\n",
       "    <tr>\n",
       "      <th>4</th>\n",
       "      <td>21</td>\n",
       "      <td>27</td>\n",
       "      <td>1</td>\n",
       "      <td>19</td>\n",
       "      <td>5.0</td>\n",
       "      <td>1</td>\n",
       "      <td>2</td>\n",
       "      <td>13</td>\n",
       "    </tr>\n",
       "  </tbody>\n",
       "</table>\n",
       "</div>"
      ],
      "text/plain": [
       "   Yellow  fifth  first  fourth   id  result  second  third\n",
       "0      30     14      1      11  1.0       1       4      6\n",
       "1      28     21      1      19  2.0       1      10     13\n",
       "2      28     21      1      19  3.0       1      10     13\n",
       "3       3     27      1      25  4.0       1      16     18\n",
       "4      21     27      1      19  5.0       1       2     13"
      ]
     },
     "execution_count": 12,
     "metadata": {},
     "output_type": "execute_result"
    }
   ],
   "source": [
    "result.head()"
   ]
  },
  {
   "cell_type": "markdown",
   "metadata": {},
   "source": [
    "## Bulid a machine learning model RANDOM FOREST "
   ]
  },
  {
   "cell_type": "code",
   "execution_count": 13,
   "metadata": {},
   "outputs": [],
   "source": [
    "#Import Random Forest Classifier from SKLEARN library\n",
    "from sklearn.ensemble import RandomForestClassifier\n",
    "clf = RandomForestClassifier(n_estimators=100, criterion='entropy',max_depth=10,random_state=0)"
   ]
  },
  {
   "cell_type": "code",
   "execution_count": 14,
   "metadata": {},
   "outputs": [],
   "source": [
    "# Spilt and train the data\n",
    "from sklearn.model_selection import train_test_split\n",
    "X=result[['first','second','third','fourth','fifth','Yellow']]\n",
    "Y= result['result']\n",
    "\n",
    "x_train,x_test,y_train,y_test = train_test_split(X,Y,test_size=0.2, random_state=42)\n",
    "\n",
    "# Normalizing the data values\n",
    "from sklearn.preprocessing import StandardScaler\n",
    "sc=StandardScaler()\n",
    "x_train = sc.fit_transform(x_train)\n",
    "x_test = sc.transform(x_test)"
   ]
  },
  {
   "cell_type": "code",
   "execution_count": 15,
   "metadata": {},
   "outputs": [
    {
     "data": {
      "text/plain": [
       "RandomForestClassifier(bootstrap=True, class_weight=None, criterion='entropy',\n",
       "            max_depth=10, max_features='auto', max_leaf_nodes=None,\n",
       "            min_impurity_decrease=0.0, min_impurity_split=None,\n",
       "            min_samples_leaf=1, min_samples_split=2,\n",
       "            min_weight_fraction_leaf=0.0, n_estimators=100, n_jobs=1,\n",
       "            oob_score=False, random_state=0, verbose=0, warm_start=False)"
      ]
     },
     "execution_count": 15,
     "metadata": {},
     "output_type": "execute_result"
    }
   ],
   "source": [
    "# Fit the data into the model\n",
    "clf.fit(x_train,y_train)"
   ]
  },
  {
   "cell_type": "code",
   "execution_count": 16,
   "metadata": {},
   "outputs": [],
   "source": [
    "#Predict the outcome\n",
    "y_predict = clf.predict(x_test)"
   ]
  },
  {
   "cell_type": "code",
   "execution_count": 18,
   "metadata": {},
   "outputs": [
    {
     "name": "stdout",
     "output_type": "stream",
     "text": [
      "[[186  10]\n",
      " [  4 206]]\n"
     ]
    }
   ],
   "source": [
    "# measuring the results by condusion matrix\n",
    "from sklearn.metrics import confusion_matrix\n",
    "cm= confusion_matrix(y_test,y_predict)\n",
    "print(cm)"
   ]
  },
  {
   "cell_type": "code",
   "execution_count": 19,
   "metadata": {},
   "outputs": [
    {
     "data": {
      "text/plain": [
       "0.9655172413793104"
      ]
     },
     "execution_count": 19,
     "metadata": {},
     "output_type": "execute_result"
    }
   ],
   "source": [
    "#model score and accuracy\n",
    "clf.score(x_test,y_test)"
   ]
  },
  {
   "cell_type": "markdown",
   "metadata": {},
   "source": [
    "## Predicting the winning numbers"
   ]
  },
  {
   "cell_type": "code",
   "execution_count": 259,
   "metadata": {},
   "outputs": [
    {
     "name": "stdout",
     "output_type": "stream",
     "text": [
      "Your winning numbers are: [69, 33, 3, 2, 21, 11]\n"
     ]
    }
   ],
   "source": [
    "import random\n",
    "process = False\n",
    "while process is False:\n",
    "    first_nu =random.sample(range(1,70), 5)\n",
    "    sixth_nu = random.randint(1,25)\n",
    "    numbers = first_nu + [sixth_nu]\n",
    "    re = clf.predict([numbers])\n",
    "    if re == 1:\n",
    "        \n",
    "        print (f'Your winning numbers are: {numbers}')\n",
    "        process = True\n",
    "    \n",
    "    "
   ]
  },
  {
   "cell_type": "markdown",
   "metadata": {},
   "source": [
    "### Removing and sorting predicted numbers\n"
   ]
  },
  {
   "cell_type": "code",
   "execution_count": 260,
   "metadata": {},
   "outputs": [],
   "source": [
    "numbers.remove(numbers[5])\n",
    "numbers.sort()\n"
   ]
  },
  {
   "cell_type": "markdown",
   "metadata": {},
   "source": [
    "### Cusromer input numbers"
   ]
  },
  {
   "cell_type": "code",
   "execution_count": 264,
   "metadata": {},
   "outputs": [
    {
     "name": "stdout",
     "output_type": "stream",
     "text": [
      "Write your first number (1-75): 55\n",
      "Write your second number (1-75): 59\n",
      "Write your third number (1-75): 62\n",
      "Write your fourth number (1-75): 75\n",
      "Write your fifth number (1-75): 74\n",
      "Write your sixth number (1-25): 2\n"
     ]
    }
   ],
   "source": [
    "first = int(input('Write your first number (1-75): '))\n",
    "second = int(input('Write your second number (1-75): '))\n",
    "third = int(input('Write your third number (1-75): '))\n",
    "fourth = int(input('Write your fourth number (1-75): '))\n",
    "fifth = int(input('Write your fifth number (1-75): '))\n",
    "sixth = int(input('Write your sixth number (1-25): '))"
   ]
  },
  {
   "cell_type": "markdown",
   "metadata": {},
   "source": [
    "### Sorting the numbers "
   ]
  },
  {
   "cell_type": "code",
   "execution_count": 265,
   "metadata": {},
   "outputs": [],
   "source": [
    "numbers = [first, second, third, fourth, fifth]\n",
    "numbers.sort()\n",
    "numbers.append(sixth)"
   ]
  },
  {
   "cell_type": "code",
   "execution_count": 266,
   "metadata": {},
   "outputs": [
    {
     "data": {
      "text/plain": [
       "[55, 59, 62, 74, 75, 2]"
      ]
     },
     "execution_count": 266,
     "metadata": {},
     "output_type": "execute_result"
    }
   ],
   "source": [
    "numbers"
   ]
  },
  {
   "cell_type": "code",
   "execution_count": null,
   "metadata": {},
   "outputs": [],
   "source": [
    "predict_results(numbers)\n"
   ]
  },
  {
   "cell_type": "markdown",
   "metadata": {},
   "source": [
    "### Predict function for the typed or generated numbers"
   ]
  },
  {
   "cell_type": "code",
   "execution_count": 159,
   "metadata": {},
   "outputs": [],
   "source": [
    "def predict_results(numbers):\n",
    "    \n",
    "    # Calculate the total probability of the numbers\n",
    "    prob_total = dff[dff['numbers'] == numbers[0]]['prob_1'].values *dff[dff['numbers'] == numbers[1]]['prob_2'].values*dff[dff['numbers'] == numbers[2]]['prob_3'].values *dff[dff['numbers'] == numbers[3]]['prob_4'].values *dff[dff['numbers'] ==numbers[4]]['prob_5'].values \n",
    "    \n",
    "    # Results classification list\n",
    "    range_result = ['very rare','rare','average','good','very good','highly possible','highly recommended']\n",
    "    \n",
    "    # Classify the results based on the total probabilities outcome\n",
    "    if prob_total <= 1e-7 and prob_total > 1e-10:\n",
    "        print (range_result[6])\n",
    "    elif prob_total <= 1e-10 and prob_total > 1e-11:\n",
    "        print (range_result[5])\n",
    "    elif prob_total <= 1e-11 and prob_total > 1e-12:\n",
    "        print (range_result[4])\n",
    "    elif prob_total <= 1e-12 and prob_total > 1e-13:\n",
    "        print (range_result[3])\n",
    "    elif prob_total <= 1e-13 and prob_total > 1e-14:\n",
    "        print (range_result[2])\n",
    "    elif prob_total <= 1e-14 and prob_total > 1e-15:\n",
    "        print (range_result[1])\n",
    "    elif prob_total <= 1e-15:\n",
    "        print (range_result[0])\n",
    "        \n",
    "    \n"
   ]
  },
  {
   "cell_type": "code",
   "execution_count": 267,
   "metadata": {},
   "outputs": [
    {
     "name": "stdout",
     "output_type": "stream",
     "text": [
      "very rare\n"
     ]
    }
   ],
   "source": [
    "predict_results(numbers)\n"
   ]
  },
  {
   "cell_type": "code",
   "execution_count": 121,
   "metadata": {},
   "outputs": [
    {
     "data": {
      "text/plain": [
       "array([1.89766097e-08])"
      ]
     },
     "execution_count": 121,
     "metadata": {},
     "output_type": "execute_result"
    }
   ],
   "source": [
    "dff[dff['numbers'] == 5]['prob_1'].values *dff[dff['numbers'] == 6]['prob_2'].values*dff[dff['numbers'] == 20]['prob_3'].values *dff[dff['numbers'] == 65]['prob_4'].values *dff[dff['numbers'] ==70]['prob_5'].values "
   ]
  },
  {
   "cell_type": "code",
   "execution_count": 136,
   "metadata": {},
   "outputs": [],
   "source": [
    "\n",
    "f= dff[dff['numbers'] == 2]['prob_1'].values *dff[dff['numbers'] == 15]['prob_2'].values*dff[dff['numbers'] == 31]['prob_3'].values *dff[dff['numbers'] == 46]['prob_4'].values *dff[dff['numbers'] ==53]['prob_5'].values "
   ]
  },
  {
   "cell_type": "code",
   "execution_count": 137,
   "metadata": {},
   "outputs": [
    {
     "data": {
      "text/plain": [
       "2.391784201483983e-07"
      ]
     },
     "execution_count": 137,
     "metadata": {},
     "output_type": "execute_result"
    }
   ],
   "source": [
    "float(f)"
   ]
  },
  {
   "cell_type": "code",
   "execution_count": 134,
   "metadata": {},
   "outputs": [],
   "source": [
    "\n",
    "e= dff[dff['numbers'] == 46]['prob_1'].values *dff[dff['numbers'] == 47]['prob_2'].values*dff[dff['numbers'] == 67]['prob_3'].values *dff[dff['numbers'] == 72]['prob_4'].values *dff[dff['numbers'] ==33]['prob_5'].values "
   ]
  },
  {
   "cell_type": "code",
   "execution_count": 135,
   "metadata": {},
   "outputs": [
    {
     "data": {
      "text/plain": [
       "array([2.61310176e-15])"
      ]
     },
     "execution_count": 135,
     "metadata": {},
     "output_type": "execute_result"
    }
   ],
   "source": [
    "e"
   ]
  },
  {
   "cell_type": "code",
   "execution_count": 138,
   "metadata": {},
   "outputs": [],
   "source": [
    "range_result = ['very rare','rare','low average','in average','above average','good','very good','highly possible','highly recommended']"
   ]
  },
  {
   "cell_type": "code",
   "execution_count": 139,
   "metadata": {},
   "outputs": [
    {
     "data": {
      "text/plain": [
       "['very rare',\n",
       " 'rare',\n",
       " 'low average',\n",
       " 'in average',\n",
       " 'above average',\n",
       " 'good',\n",
       " 'very good',\n",
       " 'highly possible',\n",
       " 'highly recommended']"
      ]
     },
     "execution_count": 139,
     "metadata": {},
     "output_type": "execute_result"
    }
   ],
   "source": [
    "range_result"
   ]
  },
  {
   "cell_type": "code",
   "execution_count": 143,
   "metadata": {},
   "outputs": [
    {
     "data": {
      "text/plain": [
       "array([0.])"
      ]
     },
     "execution_count": 143,
     "metadata": {},
     "output_type": "execute_result"
    }
   ],
   "source": [
    "dff[dff['numbers'] == 29]['prob_1'].values *dff[dff['numbers'] == 52]['prob_2'].values*dff[dff['numbers'] == 58]['prob_3'].values *dff[dff['numbers'] == 60]['prob_4'].values *dff[dff['numbers'] ==62]['prob_5'].values "
   ]
  },
  {
   "cell_type": "markdown",
   "metadata": {},
   "source": [
    "### Classify the numbers"
   ]
  },
  {
   "cell_type": "code",
   "execution_count": null,
   "metadata": {},
   "outputs": [],
   "source": []
  }
 ],
 "metadata": {
  "kernelspec": {
   "display_name": "Python 3",
   "language": "python",
   "name": "python3"
  },
  "language_info": {
   "codemirror_mode": {
    "name": "ipython",
    "version": 3
   },
   "file_extension": ".py",
   "mimetype": "text/x-python",
   "name": "python",
   "nbconvert_exporter": "python",
   "pygments_lexer": "ipython3",
   "version": "3.6.4"
  }
 },
 "nbformat": 4,
 "nbformat_minor": 2
}
