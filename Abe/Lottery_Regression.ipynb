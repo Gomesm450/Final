{
 "cells": [
  {
   "cell_type": "markdown",
   "metadata": {},
   "source": [
    "## Import Libraries "
   ]
  },
  {
   "cell_type": "code",
   "execution_count": 97,
   "metadata": {},
   "outputs": [],
   "source": [
    "import pandas as pd\n",
    "import matplotlib.pyplot as plt\n",
    "import numpy as np\n",
    "%matplotlib inline  \n"
   ]
  },
  {
   "cell_type": "markdown",
   "metadata": {},
   "source": [
    "### Read the csv file\n"
   ]
  },
  {
   "cell_type": "code",
   "execution_count": 2,
   "metadata": {},
   "outputs": [],
   "source": [
    "df = pd.read_csv('Lottery_data.csv')"
   ]
  },
  {
   "cell_type": "code",
   "execution_count": 6,
   "metadata": {},
   "outputs": [
    {
     "data": {
      "text/html": [
       "<div>\n",
       "<style scoped>\n",
       "    .dataframe tbody tr th:only-of-type {\n",
       "        vertical-align: middle;\n",
       "    }\n",
       "\n",
       "    .dataframe tbody tr th {\n",
       "        vertical-align: top;\n",
       "    }\n",
       "\n",
       "    .dataframe thead th {\n",
       "        text-align: right;\n",
       "    }\n",
       "</style>\n",
       "<table border=\"1\" class=\"dataframe\">\n",
       "  <thead>\n",
       "    <tr style=\"text-align: right;\">\n",
       "      <th></th>\n",
       "      <th>Yellow</th>\n",
       "      <th>date</th>\n",
       "      <th>fifth</th>\n",
       "      <th>first</th>\n",
       "      <th>fourth</th>\n",
       "      <th>second</th>\n",
       "      <th>third</th>\n",
       "    </tr>\n",
       "  </thead>\n",
       "  <tbody>\n",
       "    <tr>\n",
       "      <th>0</th>\n",
       "      <td>20</td>\n",
       "      <td>1/11/2019</td>\n",
       "      <td>69</td>\n",
       "      <td>4</td>\n",
       "      <td>62</td>\n",
       "      <td>5</td>\n",
       "      <td>31</td>\n",
       "    </tr>\n",
       "    <tr>\n",
       "      <th>1</th>\n",
       "      <td>5</td>\n",
       "      <td>1/8/2019</td>\n",
       "      <td>64</td>\n",
       "      <td>13</td>\n",
       "      <td>38</td>\n",
       "      <td>26</td>\n",
       "      <td>29</td>\n",
       "    </tr>\n",
       "    <tr>\n",
       "      <th>2</th>\n",
       "      <td>15</td>\n",
       "      <td>1/4/2019</td>\n",
       "      <td>60</td>\n",
       "      <td>21</td>\n",
       "      <td>54</td>\n",
       "      <td>29</td>\n",
       "      <td>35</td>\n",
       "    </tr>\n",
       "    <tr>\n",
       "      <th>3</th>\n",
       "      <td>14</td>\n",
       "      <td>1/1/2019</td>\n",
       "      <td>70</td>\n",
       "      <td>34</td>\n",
       "      <td>62</td>\n",
       "      <td>44</td>\n",
       "      <td>57</td>\n",
       "    </tr>\n",
       "    <tr>\n",
       "      <th>4</th>\n",
       "      <td>21</td>\n",
       "      <td>12/28/2018</td>\n",
       "      <td>38</td>\n",
       "      <td>9</td>\n",
       "      <td>37</td>\n",
       "      <td>10</td>\n",
       "      <td>25</td>\n",
       "    </tr>\n",
       "  </tbody>\n",
       "</table>\n",
       "</div>"
      ],
      "text/plain": [
       "   Yellow        date  fifth  first  fourth  second  third\n",
       "0      20   1/11/2019     69      4      62       5     31\n",
       "1       5    1/8/2019     64     13      38      26     29\n",
       "2      15    1/4/2019     60     21      54      29     35\n",
       "3      14    1/1/2019     70     34      62      44     57\n",
       "4      21  12/28/2018     38      9      37      10     25"
      ]
     },
     "execution_count": 6,
     "metadata": {},
     "output_type": "execute_result"
    }
   ],
   "source": [
    "df= df.drop(columns='Unnamed: 0')\n",
    "df.head()\n",
    "0"
   ]
  },
  {
   "cell_type": "code",
   "execution_count": 53,
   "metadata": {},
   "outputs": [
    {
     "data": {
      "text/html": [
       "<div>\n",
       "<style scoped>\n",
       "    .dataframe tbody tr th:only-of-type {\n",
       "        vertical-align: middle;\n",
       "    }\n",
       "\n",
       "    .dataframe tbody tr th {\n",
       "        vertical-align: top;\n",
       "    }\n",
       "\n",
       "    .dataframe thead th {\n",
       "        text-align: right;\n",
       "    }\n",
       "</style>\n",
       "<table border=\"1\" class=\"dataframe\">\n",
       "  <thead>\n",
       "    <tr style=\"text-align: right;\">\n",
       "      <th></th>\n",
       "      <th>Number</th>\n",
       "      <th>Percent</th>\n",
       "      <th>Qty</th>\n",
       "    </tr>\n",
       "  </thead>\n",
       "  <tbody>\n",
       "    <tr>\n",
       "      <th>0</th>\n",
       "      <td>1</td>\n",
       "      <td>0.0165</td>\n",
       "      <td>85</td>\n",
       "    </tr>\n",
       "    <tr>\n",
       "      <th>1</th>\n",
       "      <td>10</td>\n",
       "      <td>0.0193</td>\n",
       "      <td>99</td>\n",
       "    </tr>\n",
       "    <tr>\n",
       "      <th>2</th>\n",
       "      <td>11</td>\n",
       "      <td>0.0187</td>\n",
       "      <td>96</td>\n",
       "    </tr>\n",
       "    <tr>\n",
       "      <th>3</th>\n",
       "      <td>12</td>\n",
       "      <td>0.0165</td>\n",
       "      <td>85</td>\n",
       "    </tr>\n",
       "    <tr>\n",
       "      <th>4</th>\n",
       "      <td>13</td>\n",
       "      <td>0.0144</td>\n",
       "      <td>74</td>\n",
       "    </tr>\n",
       "  </tbody>\n",
       "</table>\n",
       "</div>"
      ],
      "text/plain": [
       "   Number  Percent  Qty\n",
       "0       1   0.0165   85\n",
       "1      10   0.0193   99\n",
       "2      11   0.0187   96\n",
       "3      12   0.0165   85\n",
       "4      13   0.0144   74"
      ]
     },
     "execution_count": 53,
     "metadata": {},
     "output_type": "execute_result"
    }
   ],
   "source": [
    "df_count = pd.read_csv('frequency.csv')\n",
    "df_count.head()"
   ]
  },
  {
   "cell_type": "markdown",
   "metadata": {},
   "source": [
    "### Plot the numbers vs its frequency"
   ]
  },
  {
   "cell_type": "code",
   "execution_count": 55,
   "metadata": {},
   "outputs": [
    {
     "data": {
      "text/plain": [
       "<matplotlib.axes._subplots.AxesSubplot at 0x26972024d68>"
      ]
     },
     "execution_count": 55,
     "metadata": {},
     "output_type": "execute_result"
    },
    {
     "data": {
      "image/png": "[encoded data removed]",
      "text/plain": [
       "<matplotlib.figure.Figure at 0x26972004908>"
      ]
     },
     "metadata": {},
     "output_type": "display_data"
    }
   ],
   "source": [
    "df_count.plot(x='Number',y='Qty',kind='scatter')"
   ]
  },
  {
   "cell_type": "code",
   "execution_count": 54,
   "metadata": {},
   "outputs": [
    {
     "data": {
      "text/plain": [
       "<matplotlib.axes._subplots.AxesSubplot at 0x26971fd56d8>"
      ]
     },
     "execution_count": 54,
     "metadata": {},
     "output_type": "execute_result"
    },
    {
     "data": {
      "image/png": "[encoded data removed]",
      "text/plain": [
       "<matplotlib.figure.Figure at 0x26971f85dd8>"
      ]
     },
     "metadata": {},
     "output_type": "display_data"
    }
   ],
   "source": [
    "# Plot Numbers versus the percentage of the frequency\n",
    "df_count.plot(x='Number',y='Percent',kind='scatter')"
   ]
  },
  {
   "cell_type": "markdown",
   "metadata": {},
   "source": [
    "### Applying Linear Regression to fit and predict the trend line"
   ]
  },
  {
   "cell_type": "code",
   "execution_count": 110,
   "metadata": {},
   "outputs": [
    {
     "name": "stdout",
     "output_type": "stream",
     "text": [
      "model coefficient: -0.00015004400737019273\n",
      "model intercept: 0.019163867551524615\n",
      "R_squared is: 0.6210029558543138\n"
     ]
    }
   ],
   "source": [
    "from sklearn.linear_model import LinearRegression\n",
    "from sklearn.preprocessing import PolynomialFeatures\n",
    "from sklearn.pipeline import make_pipeline\n",
    "from sklearn.model_selection import train_test_split\n",
    "from sklearn.metrics import r2_score\n",
    "\n",
    "#Training, Testing Splitting data\n",
    "X_train, X_test, y_train, y_test = train_test_split(df_count['Number'],df_count['Percent'],test_size= 0.2, random_state = 1)\n",
    "\n",
    "# Model to fit a linear line\n",
    "model = LinearRegression()\n",
    "model.fit((X_train[:, np.newaxis]),y_train)\n",
    "\n",
    "#Print the model coefficients and intercept\n",
    "print(f'model coefficient: {float(model.coef_)}')\n",
    "print(f'model intercept: {float(model.intercept_)}')\n",
    "\n",
    "#Predict the model\n",
    "y_predict = model.predict(X_test[:, np.newaxis])\n",
    "print (f'R_squared is: {r2_score(y_test,y_predict)}')\n",
    "xfit = np.linspace(0, 75,75 )\n",
    "yfit = model.predict(xfit[:, np.newaxis])"
   ]
  },
  {
   "cell_type": "code",
   "execution_count": 101,
   "metadata": {},
   "outputs": [
    {
     "data": {
      "text/plain": [
       "array([0.01511268, 0.0182636 , 0.01631303, 0.00821066, 0.01031127,\n",
       "       0.01421242, 0.01226184, 0.01856369, 0.01316211, 0.00956105,\n",
       "       0.01841365, 0.01136158, 0.01751338, 0.01046132, 0.01406237])"
      ]
     },
     "execution_count": 101,
     "metadata": {},
     "output_type": "execute_result"
    }
   ],
   "source": [
    "y_predict"
   ]
  },
  {
   "cell_type": "code",
   "execution_count": 102,
   "metadata": {},
   "outputs": [
    {
     "data": {
      "image/png": "[encoded data removed]",
      "text/plain": [
       "<matplotlib.figure.Figure at 0x269769186d8>"
      ]
     },
     "metadata": {},
     "output_type": "display_data"
    }
   ],
   "source": [
    "plt.scatter(X_train,y_train)\n",
    "plt.plot(xfit, yfit);"
   ]
  },
  {
   "cell_type": "markdown",
   "metadata": {},
   "source": [
    "### Build Anova table "
   ]
  },
  {
   "cell_type": "code",
   "execution_count": 103,
   "metadata": {},
   "outputs": [
    {
     "name": "stdout",
     "output_type": "stream",
     "text": [
      "                            OLS Regression Results                            \n",
      "==============================================================================\n",
      "Dep. Variable:                    Qty   R-squared:                       0.512\n",
      "Model:                            OLS   Adj. R-squared:                  0.506\n",
      "Method:                 Least Squares   F-statistic:                     77.77\n",
      "Date:                Thu, 17 Jan 2019   Prob (F-statistic):           3.66e-13\n",
      "Time:                        13:36:49   Log-Likelihood:                -400.03\n",
      "No. Observations:                  75   AIC:                             802.1\n",
      "Df Residuals:                      74   BIC:                             804.4\n",
      "Df Model:                           1                                         \n",
      "Covariance Type:            nonrobust                                         \n",
      "==============================================================================\n",
      "                 coef    std err          t      P>|t|      [0.025      0.975]\n",
      "------------------------------------------------------------------------------\n",
      "Number         1.1753      0.133      8.819      0.000       0.910       1.441\n",
      "==============================================================================\n",
      "Omnibus:                       10.805   Durbin-Watson:                   0.464\n",
      "Prob(Omnibus):                  0.005   Jarque-Bera (JB):                6.050\n",
      "Skew:                          -0.514   Prob(JB):                       0.0486\n",
      "Kurtosis:                       2.062   Cond. No.                         1.00\n",
      "==============================================================================\n",
      "\n",
      "Warnings:\n",
      "[1] Standard Errors assume that the covariance matrix of the errors is correctly specified.\n"
     ]
    }
   ],
   "source": [
    "from __future__ import print_function\n",
    "import numpy as np\n",
    "import statsmodels.api as sm\n",
    "import matplotlib.pyplot as plt\n",
    "from statsmodels.sandbox.regression.predstd import wls_prediction_std\n",
    "\n",
    "np.random.seed(9876789)\n",
    "\n",
    "\n",
    "# X = sm.add_constant(X)\n",
    "model_1 = sm.OLS(df_count['Qty'], df_count['Number'])\n",
    "results = model_1.fit()\n",
    "print(results.summary())"
   ]
  },
  {
   "cell_type": "markdown",
   "metadata": {},
   "source": [
    "### Build Polynomial regression model (Quadratic Model x=2)"
   ]
  },
  {
   "cell_type": "code",
   "execution_count": 119,
   "metadata": {},
   "outputs": [
    {
     "name": "stdout",
     "output_type": "stream",
     "text": [
      "model coefficient: -0.00015004400737019273\n",
      "model intercept: 0.019163867551524615\n",
      "R_squared is: 0.7401174704243572\n"
     ]
    }
   ],
   "source": [
    "model_2 = make_pipeline(PolynomialFeatures(2),LinearRegression())\n",
    "model_2.fit((X_train[:, np.newaxis]),y_train)\n",
    "xfit = np.linspace(0, 75,75 )\n",
    "yfit = model_2.predict(xfit[:, np.newaxis])\n",
    "print(f'model coefficient: {float(model.coef_)}')\n",
    "print(f'model intercept: {float(model.intercept_)}')\n",
    "y_predict = model_2.predict(X_test[:, np.newaxis])\n",
    "print (f'R_squared is: {r2_score(y_test,y_predict)}')"
   ]
  },
  {
   "cell_type": "markdown",
   "metadata": {},
   "source": [
    "### Predict the numbers probability \n"
   ]
  },
  {
   "cell_type": "code",
   "execution_count": 140,
   "metadata": {},
   "outputs": [
    {
     "name": "stdout",
     "output_type": "stream",
     "text": [
      "[0.00425091]\n"
     ]
    },
    {
     "data": {
      "text/plain": [
       "0.9999699999999999"
      ]
     },
     "execution_count": 140,
     "metadata": {},
     "output_type": "execute_result"
    }
   ],
   "source": [
    "print(model_2.predict(np.array(75)))\n",
    "df_count[df_count['Number'] == 75]\n",
    "y_predict[:]\n",
    "df_count['Percent'].sum()"
   ]
  },
  {
   "cell_type": "code",
   "execution_count": 105,
   "metadata": {},
   "outputs": [
    {
     "data": {
      "image/png": "[encoded data removed]",
      "text/plain": [
       "<matplotlib.figure.Figure at 0x26976e6db70>"
      ]
     },
     "metadata": {},
     "output_type": "display_data"
    }
   ],
   "source": [
    "plt.scatter(X_train,y_train)\n",
    "plt.plot(xfit, yfit);"
   ]
  },
  {
   "cell_type": "markdown",
   "metadata": {},
   "source": [
    "### Build Ridge Regression Model with an alpha=0.1"
   ]
  },
  {
   "cell_type": "code",
   "execution_count": 94,
   "metadata": {},
   "outputs": [
    {
     "name": "stdout",
     "output_type": "stream",
     "text": [
      "model coefficient: -0.770982311899745\n",
      "model intercept: 98.49846635492514\n",
      "R_squared is: 0.6231483051980649\n"
     ]
    }
   ],
   "source": [
    "from sklearn.linear_model import Ridge\n",
    "model_ridge = Ridge(alpha=0.1)\n",
    "model_ridge.fit(X_train[:, np.newaxis],y_train)\n",
    "xfit = np.linspace(0, 1,1000 )\n",
    "yfit = model_ridge.predict(xfit[:, np.newaxis])\n",
    "print(f'model coefficient: {float(model.coef_)}')\n",
    "print(f'model intercept: {float(model.intercept_)}')\n",
    "y_predict = model_ridge.predict(X_test[:, np.newaxis])\n",
    "print (f'R_squared is: {r2_score(y_test,y_predict)}')"
   ]
  },
  {
   "cell_type": "code",
   "execution_count": null,
   "metadata": {},
   "outputs": [],
   "source": []
  },
  {
   "cell_type": "code",
   "execution_count": null,
   "metadata": {},
   "outputs": [],
   "source": []
  }
 ],
 "metadata": {
  "kernelspec": {
   "display_name": "Python 3",
   "language": "python",
   "name": "python3"
  },
  "language_info": {
   "codemirror_mode": {
    "name": "ipython",
    "version": 3
   },
   "file_extension": ".py",
   "mimetype": "text/x-python",
   "name": "python",
   "nbconvert_exporter": "python",
   "pygments_lexer": "ipython3",
   "version": "3.6.4"
  }
 },
 "nbformat": 4,
 "nbformat_minor": 2
}
